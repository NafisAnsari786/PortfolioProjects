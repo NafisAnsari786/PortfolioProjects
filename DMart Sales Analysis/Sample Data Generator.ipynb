{
 "cells": [
  {
   "cell_type": "code",
   "execution_count": 2,
   "metadata": {},
   "outputs": [
    {
     "name": "stdout",
     "output_type": "stream",
     "text": [
      "Synthetic DMart dataset generated successfully.\n"
     ]
    }
   ],
   "source": [
    "import pandas as pd\n",
    "import numpy as np\n",
    "import random\n",
    "from datetime import datetime, timedelta\n",
    "\n",
    "# Define functions to generate random data\n",
    "def generate_random_date(start_date, end_date):\n",
    "    \"\"\"Generates a random date between two dates.\"\"\"\n",
    "    start_date = pd.to_datetime(start_date)\n",
    "    end_date = pd.to_datetime(end_date)\n",
    "    delta = end_date - start_date\n",
    "    int_delta = (delta.days * 24 * 60 * 60) + delta.seconds\n",
    "    random_second = random.randrange(int_delta)\n",
    "    return start_date + pd.Timedelta(seconds=random_second)\n",
    "\n",
    "def generate_random_time():\n",
    "    \"\"\"Generates a random time in the format 'HH:MM:SS'.\"\"\"\n",
    "    hour = random.randint(0, 23)\n",
    "    minute = random.randint(0, 59)\n",
    "    second = random.randint(0, 59)\n",
    "    return f\"{hour:02d}:{minute:02d}:{second:02d}\"\n",
    "\n",
    "# Define product categories\n",
    "product_categories = ['Grocery', 'Electronics', 'Clothing', 'Home & Kitchen', 'Beauty & Personal Care']\n",
    "\n",
    "# Define customer types\n",
    "customer_types = ['Regular', 'Premium', 'Member']\n",
    "\n",
    "# Define a list of common Indian first names\n",
    "first_names = ['Aakash', 'Avani', 'Bhavesh', 'Diya', 'Eeshaan', 'Gaurav', 'Ishaan', 'Jai', 'Krishna', 'Lakshmi', \n",
    "                'Mahesh', 'Nandini', 'Priya', 'Rohan', 'Shreya', 'Tanvi', 'Uday', 'Vaibhav', 'Yash', 'Zara']\n",
    "\n",
    "# Define a list of common Indian last names\n",
    "last_names = ['Agarwal', 'Bhatia', 'Chauhan', 'Desai', 'Gupta', 'Iyer', 'Jain', 'Khanna', 'Kumar', 'Lal', \n",
    "                'Mehta', 'Patel', 'Rao', 'Sharma', 'Singh', 'Verma', 'Wadhwa', 'Xavier', 'Yadav', 'Zutshi']\n",
    "\n",
    "# Generate sample data\n",
    "data = []\n",
    "for _ in range(1_000_000):\n",
    "    date = generate_random_date('2023-01-01', '2025-01-10') \n",
    "    time = generate_random_time()\n",
    "    customer_type = random.choice(customer_types)\n",
    "    product_category = random.choice(product_categories)\n",
    "    unit_price = round(random.uniform(10, 500), 2)\n",
    "    quantity = random.randint(1, 5)\n",
    "    total = unit_price * quantity\n",
    "    first_name = random.choice(first_names)\n",
    "    last_name = random.choice(last_names)\n",
    "    full_name = f\"{first_name} {last_name}\" \n",
    "    data.append({\n",
    "        'Date': date,\n",
    "        'Time': time,\n",
    "        'CustomerType': customer_type,\n",
    "        'ProductCategory': product_category,\n",
    "        'UnitPrice': unit_price,\n",
    "        'Quantity': quantity,\n",
    "        'Total': total,\n",
    "        'FullName': full_name \n",
    "    })\n",
    "\n",
    "# Create DataFrame\n",
    "df = pd.DataFrame(data)\n",
    "\n",
    "# Save to CSV\n",
    "df.to_csv(\"F:\\Machine Learning all Algorithms\\DMart_sample_data.csv\", index=False)\n",
    "\n",
    "print(\"Synthetic DMart dataset generated successfully.\")"
   ]
  },
  {
   "cell_type": "code",
   "execution_count": null,
   "metadata": {},
   "outputs": [],
   "source": []
  }
 ],
 "metadata": {
  "kernelspec": {
   "display_name": "base",
   "language": "python",
   "name": "python3"
  },
  "language_info": {
   "codemirror_mode": {
    "name": "ipython",
    "version": 3
   },
   "file_extension": ".py",
   "mimetype": "text/x-python",
   "name": "python",
   "nbconvert_exporter": "python",
   "pygments_lexer": "ipython3",
   "version": "3.11.5"
  }
 },
 "nbformat": 4,
 "nbformat_minor": 2
}
