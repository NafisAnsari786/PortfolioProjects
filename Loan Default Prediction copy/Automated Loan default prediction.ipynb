{
 "cells": [
  {
   "cell_type": "code",
   "execution_count": 2,
   "metadata": {},
   "outputs": [
    {
     "name": "stdout",
     "output_type": "stream",
     "text": [
      "Collecting schedule\n",
      "  Downloading schedule-1.2.2-py3-none-any.whl.metadata (3.8 kB)\n",
      "Downloading schedule-1.2.2-py3-none-any.whl (12 kB)\n",
      "Installing collected packages: schedule\n",
      "Successfully installed schedule-1.2.2\n",
      "Note: you may need to restart the kernel to use updated packages.\n"
     ]
    }
   ],
   "source": [
    "pip install schedule\n"
   ]
  },
  {
   "cell_type": "code",
   "execution_count": 1,
   "metadata": {},
   "outputs": [
    {
     "ename": "KeyboardInterrupt",
     "evalue": "",
     "output_type": "error",
     "traceback": [
      "\u001b[1;31m---------------------------------------------------------------------------\u001b[0m",
      "\u001b[1;31mKeyboardInterrupt\u001b[0m                         Traceback (most recent call last)",
      "Cell \u001b[1;32mIn[1], line 51\u001b[0m\n\u001b[0;32m     49\u001b[0m \u001b[38;5;28;01mwhile\u001b[39;00m \u001b[38;5;28;01mTrue\u001b[39;00m:\n\u001b[0;32m     50\u001b[0m     schedule\u001b[38;5;241m.\u001b[39mrun_pending()\n\u001b[1;32m---> 51\u001b[0m     time\u001b[38;5;241m.\u001b[39msleep(\u001b[38;5;241m1\u001b[39m)\n",
      "\u001b[1;31mKeyboardInterrupt\u001b[0m: "
     ]
    }
   ],
   "source": [
    "import schedule\n",
    "import time\n",
    "import pandas as pd\n",
    "from sklearn.linear_model import LogisticRegression\n",
    "from sklearn.preprocessing import StandardScaler\n",
    "from sklearn.model_selection import train_test_split\n",
    "from sklearn.metrics import classification_report, confusion_matrix\n",
    "\n",
    "# Your model loading and training functions\n",
    "def load_and_train_model():\n",
    "    # Load the dataset (assumed to be updated regularly)\n",
    "    df = pd.read_csv('loan_data.csv')  # Update path as necessary\n",
    "    \n",
    "    # Preprocessing steps (ensure you handle missing values and categorical encoding)\n",
    "    df['LoanAmount'].fillna(df['LoanAmount'].median(), inplace=True)\n",
    "    df = pd.get_dummies(df, drop_first=True)\n",
    "    scaler = StandardScaler()\n",
    "    df[['LoanAmount', 'Income']] = scaler.fit_transform(df[['LoanAmount', 'Income']])\n",
    "    \n",
    "    # Split the data\n",
    "    X = df.drop(columns=['Default'])\n",
    "    y = df['Default']\n",
    "    \n",
    "    X_train, X_test, y_train, y_test = train_test_split(X, y, test_size=0.3, random_state=42)\n",
    "    \n",
    "    # Initialize and train model\n",
    "    model = LogisticRegression(class_weight='balanced')\n",
    "    model.fit(X_train, y_train)\n",
    "    \n",
    "    # Prediction and evaluation\n",
    "    y_pred = model.predict(X_test)\n",
    "    \n",
    "    # Print evaluation metrics\n",
    "    print(\"Classification Report:\\n\", classification_report(y_test, y_pred))\n",
    "    print(\"Confusion Matrix:\\n\", confusion_matrix(y_test, y_pred))\n",
    "\n",
    "    # Optionally save the model for future use (in case you want to avoid retraining)\n",
    "    import joblib\n",
    "    joblib.dump(model, 'loan_default_model.pkl')\n",
    "\n",
    "# Schedule the batch process to run monthly (or any time interval)\n",
    "def job():\n",
    "    print(\"Running batch job for loan default prediction...\")\n",
    "    load_and_train_model()\n",
    "\n",
    "# Schedule to run every 30 days\n",
    "schedule.every(30).days.do(job)\n",
    "\n",
    "while True:\n",
    "    schedule.run_pending()\n",
    "    time.sleep(1)\n"
   ]
  },
  {
   "cell_type": "code",
   "execution_count": null,
   "metadata": {},
   "outputs": [],
   "source": []
  }
 ],
 "metadata": {
  "kernelspec": {
   "display_name": "Python 3",
   "language": "python",
   "name": "python3"
  },
  "language_info": {
   "codemirror_mode": {
    "name": "ipython",
    "version": 3
   },
   "file_extension": ".py",
   "mimetype": "text/x-python",
   "name": "python",
   "nbconvert_exporter": "python",
   "pygments_lexer": "ipython3",
   "version": "3.11.2"
  }
 },
 "nbformat": 4,
 "nbformat_minor": 2
}
